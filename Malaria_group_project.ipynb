{
  "nbformat": 4,
  "nbformat_minor": 0,
  "metadata": {
    "colab": {
      "name": "Malaria group project.ipynb",
      "provenance": [],
      "mount_file_id": "1PjWUsgSHFJ7h1xnQ81z44dsHSsk6BLkT",
      "authorship_tag": "ABX9TyNxl5CroGRwIMlXoxWWoMsu",
      "include_colab_link": true
    },
    "kernelspec": {
      "name": "python3",
      "display_name": "Python 3"
    }
  },
  "cells": [
    {
      "cell_type": "markdown",
      "metadata": {
        "id": "view-in-github",
        "colab_type": "text"
      },
      "source": [
        "<a href=\"https://colab.research.google.com/github/khushishah03/Malaria-Detection/blob/main/Malaria_group_project.ipynb\" target=\"_parent\"><img src=\"https://colab.research.google.com/assets/colab-badge.svg\" alt=\"Open In Colab\"/></a>"
      ]
    },
    {
      "cell_type": "code",
      "metadata": {
        "id": "9DbmfCtEyXuG",
        "outputId": "3d5613af-36d0-4c3f-985e-06ce4c122a2a",
        "colab": {
          "base_uri": "https://localhost:8080/"
        }
      },
      "source": [
        "import cv2\n",
        "import tensorflow as tf\n",
        "import numpy as np\n",
        "from keras.preprocessing import image\n",
        "\n",
        "model = tf.keras.models.load_model(\"/content/drive/My Drive/Projects/basic_cnn.h5\")\n",
        "img=image.load_img(\"/content/drive/My Drive/Projects/C100P61ThinF_IMG_20150918_144104_cell_162.png\", target_size=(125, 125))\n",
        "x=image.img_to_array(img)\n",
        "x=np.expand_dims(x, axis=0)\n",
        "images=np.vstack([x])\n",
        "\n",
        "classes=model.predict(images,batch_size=10)\n",
        "\n",
        "#print(classes)\n",
        "\n",
        "if classes > 0.5:\n",
        "\tprint(\"You have Malaria. Check for COVID\")\n",
        "else:\n",
        "\tprint(\"You Don't have Malaria.\")\n",
        "\n",
        "\n"
      ],
      "execution_count": null,
      "outputs": [
        {
          "output_type": "stream",
          "text": [
            "You have Malaria. Check for COVID\n"
          ],
          "name": "stdout"
        }
      ]
    }
  ]
}